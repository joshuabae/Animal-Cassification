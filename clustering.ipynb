{
  "nbformat": 4,
  "nbformat_minor": 0,
  "metadata": {
    "colab": {
      "name": "clustering.ipynb",
      "provenance": [],
      "collapsed_sections": [],
      "authorship_tag": "ABX9TyN/qYwrJdw5W9AYWDjkLikj",
      "include_colab_link": true
    },
    "kernelspec": {
      "name": "python3",
      "display_name": "Python 3"
    }
  },
  "cells": [
    {
      "cell_type": "markdown",
      "metadata": {
        "id": "view-in-github",
        "colab_type": "text"
      },
      "source": [
        "<a href=\"https://colab.research.google.com/github/joshuabae/Animal-Cassification/blob/master/clustering.ipynb\" target=\"_parent\"><img src=\"https://colab.research.google.com/assets/colab-badge.svg\" alt=\"Open In Colab\"/></a>"
      ]
    },
    {
      "cell_type": "code",
      "metadata": {
        "id": "CZgTh7ILT5J7",
        "colab_type": "code",
        "colab": {
          "base_uri": "https://localhost:8080/",
          "height": 125
        },
        "outputId": "47e51ca9-1996-4459-8f57-2e54a9d623d5"
      },
      "source": [
        "from google.colab import drive\n",
        "drive.mount('/content/gdrive')"
      ],
      "execution_count": 2,
      "outputs": [
        {
          "output_type": "stream",
          "text": [
            "Go to this URL in a browser: https://accounts.google.com/o/oauth2/auth?client_id=947318989803-6bn6qk8qdgf4n4g3pfee6491hc0brc4i.apps.googleusercontent.com&redirect_uri=urn%3aietf%3awg%3aoauth%3a2.0%3aoob&response_type=code&scope=email%20https%3a%2f%2fwww.googleapis.com%2fauth%2fdocs.test%20https%3a%2f%2fwww.googleapis.com%2fauth%2fdrive%20https%3a%2f%2fwww.googleapis.com%2fauth%2fdrive.photos.readonly%20https%3a%2f%2fwww.googleapis.com%2fauth%2fpeopleapi.readonly\n",
            "\n",
            "Enter your authorization code:\n",
            "··········\n",
            "Mounted at /content/gdrive\n"
          ],
          "name": "stdout"
        }
      ]
    },
    {
      "cell_type": "code",
      "metadata": {
        "id": "_MUn-Gos-QqH",
        "colab_type": "code",
        "colab": {
          "base_uri": "https://localhost:8080/",
          "height": 70
        },
        "outputId": "1820b43e-0440-40f7-8d9e-c4bc3e5f55e5"
      },
      "source": [
        "# !kaggle datasets download -d ronitf/heart-disease-uci\n",
        "# !ls\n",
        "# !unzip \\*.zip  && rm *.zip"
      ],
      "execution_count": 88,
      "outputs": [
        {
          "output_type": "stream",
          "text": [
            "class.csv  heart-disease-uci.zip  kaggle.json  zoo.csv\n",
            "Archive:  heart-disease-uci.zip\n",
            "  inflating: heart.csv               \n"
          ],
          "name": "stdout"
        }
      ]
    },
    {
      "cell_type": "code",
      "metadata": {
        "id": "bFAZNZvUUEPA",
        "colab_type": "code",
        "colab": {
          "base_uri": "https://localhost:8080/",
          "height": 34
        },
        "outputId": "8f98e8ec-ce3e-49e6-8e1a-a2968a0a046f"
      },
      "source": [
        "import os\n",
        "os.environ['KAGGLE_CONFIG_DIR'] = \"/content/gdrive/My Drive/Kaggle\"\n",
        "# /content/gdrive/My Drive/Kaggle is the path where kaggle.json is present in the Google Drive\n",
        "#changing the working directory\n",
        "%cd /content/gdrive/My Drive/Kaggle"
      ],
      "execution_count": 41,
      "outputs": [
        {
          "output_type": "stream",
          "text": [
            "/content/gdrive/My Drive/Kaggle\n"
          ],
          "name": "stdout"
        }
      ]
    },
    {
      "cell_type": "code",
      "metadata": {
        "id": "nDzzWthzd2AZ",
        "colab_type": "code",
        "colab": {}
      },
      "source": [
        "import pandas as pd\n",
        "import numpy as np\n",
        "\n",
        "from sklearn.model_selection import train_test_split\n",
        "\n",
        "from sklearn.cluster import KMeans\n",
        "import matplotlib.pyplot as plt\n",
        "import seaborn as sns\n",
        "from kmodes.kmodes import KModes\n",
        "\n",
        "import warnings\n",
        "warnings.filterwarnings(\"ignore\")\n",
        "\n",
        "# Though the following import is not directly being used, it is required\n",
        "# for 3D projection to work\n",
        "from mpl_toolkits.mplot3d import Axes3D"
      ],
      "execution_count": 0,
      "outputs": []
    },
    {
      "cell_type": "code",
      "metadata": {
        "id": "T9ag8ferUX0A",
        "colab_type": "code",
        "colab": {}
      },
      "source": [
        "class_data = pd.read_csv('class.csv')\n",
        "zoo_data = pd.read_csv('zoo.csv')"
      ],
      "execution_count": 0,
      "outputs": []
    },
    {
      "cell_type": "code",
      "metadata": {
        "id": "4k2NesazdrUO",
        "colab_type": "code",
        "colab": {
          "base_uri": "https://localhost:8080/",
          "height": 298
        },
        "outputId": "3b30d184-4bee-4b19-f922-e7e161bc7bff"
      },
      "source": [
        "# zoo_data.describe()\n",
        "sns.countplot(zoo_data['class_type'], label=\"count\")"
      ],
      "execution_count": 92,
      "outputs": [
        {
          "output_type": "execute_result",
          "data": {
            "text/plain": [
              "<matplotlib.axes._subplots.AxesSubplot at 0x7f036686c080>"
            ]
          },
          "metadata": {
            "tags": []
          },
          "execution_count": 92
        },
        {
          "output_type": "display_data",
          "data": {
            "image/png": "[encoded data removed]",
            "text/plain": [
              "<Figure size 432x288 with 1 Axes>"
            ]
          },
          "metadata": {
            "tags": [],
            "needs_background": "light"
          }
        }
      ]
    },
    {
      "cell_type": "code",
      "metadata": {
        "id": "qXknfB9Sj6s-",
        "colab_type": "code",
        "colab": {}
      },
      "source": [
        "y_data = zoo_data.class_type\n",
        "X_data = zoo_data.drop(columns=['class_type'])\n",
        "\n",
        "# split data randomly and y variable (7 class_type) proportionately\n",
        "X_train, X_test, y_train, y_test = train_test_split(X_data, y_data, train_size=0.7, random_state=42, stratify=y_data)\n",
        "\n",
        "X_train = X_train.drop(columns=['animal_name'])\n",
        "X_test = X_test.drop(columns=['animal_name'])"
      ],
      "execution_count": 0,
      "outputs": []
    },
    {
      "cell_type": "code",
      "metadata": {
        "id": "8cR8NpjECmrl",
        "colab_type": "code",
        "colab": {}
      },
      "source": [
        ""
      ],
      "execution_count": 0,
      "outputs": []
    },
    {
      "cell_type": "code",
      "metadata": {
        "id": "EEJEa7MalepX",
        "colab_type": "code",
        "colab": {}
      },
      "source": [
        "# kmeans might not be super accurate because no distance metric can work \n",
        "kmeans = KMeans(n_clusters=7, random_state=0).fit(data)\n",
        "predictions = kmeans.labels_\n",
        "\n",
        "animals = zoo_data['animal_name']\n",
        "\n",
        "i = 0\n",
        "for animal in animals:\n",
        "  print(animal, predictions[i])\n",
        "  i += 1"
      ],
      "execution_count": 0,
      "outputs": []
    },
    {
      "cell_type": "code",
      "metadata": {
        "id": "fLhiiIsznsIH",
        "colab_type": "code",
        "colab": {}
      },
      "source": [
        "# define the k-modes model\n",
        "# fit the clusters to the skills dataframe\n",
        "km = KModes(n_clusters=7, init='Cao', n_init=50)\n",
        "\n",
        "clusters = km.fit_predict(data)\n",
        "\n",
        "# Print the cluster centroids\n",
        "kmodes = km.cluster_centroids_\n",
        "print(km.cluster_centroids_)\n",
        "\n",
        "shape = kmodes.shape\n",
        "print(shape)\n",
        "# For each cluster mode (a vector of \"1\" and \"0\")\n",
        "# find and print the column headings where \"1\" appears.\n",
        "# If no \"1\" appears, assign to \"no-skills\" cluster.\n",
        "for i in range(shape[0]):\n",
        "    if sum(kmodes[i,:]) == 0:\n",
        "        print(\"\\ncluster \" + str(i) + \": \")\n",
        "        print(\"no-skills cluster\")\n",
        "    else:\n",
        "        print(\"\\ncluster \" + str(i) + \": \")\n",
        "        cent = kmodes[i,:]\n",
        "        for j in data.columns[np.nonzero(cent)]:\n",
        "            print(j)"
      ],
      "execution_count": 0,
      "outputs": []
    },
    {
      "cell_type": "markdown",
      "metadata": {
        "id": "ENc0KVp23Rv4",
        "colab_type": "text"
      },
      "source": [
        "https://www.kaggle.com/ashydv/bank-customer-clustering-k-modes-clustering\n"
      ]
    }
  ]
}